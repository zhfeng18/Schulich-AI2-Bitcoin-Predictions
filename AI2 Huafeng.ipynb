{
 "cells": [
  {
   "cell_type": "markdown",
   "metadata": {
    "toc": true
   },
   "source": [
    "<h1>Table of Contents<span class=\"tocSkip\"></span></h1>\n",
    "<div class=\"toc\"><ul class=\"toc-item\"><li><span><a href=\"#Backtesing\" data-toc-modified-id=\"Backtesing-1\"><span class=\"toc-item-num\">1&nbsp;&nbsp;</span>Backtesing</a></span></li></ul></div>"
   ]
  },
  {
   "cell_type": "code",
   "execution_count": 1,
   "metadata": {
    "colab": {
     "base_uri": "https://localhost:8080/",
     "height": 391
    },
    "colab_type": "code",
    "id": "IVlV9Gq-Tllu",
    "outputId": "8dffec63-5925-4876-cd70-f6bfefa2e605"
   },
   "outputs": [
    {
     "name": "stdout",
     "output_type": "stream",
     "text": [
      "TensorFlow 2.x selected.\n",
      "Cloning into 'tensortrade'...\n",
      "remote: Enumerating objects: 287, done.\u001b[K\n",
      "remote: Counting objects: 100% (287/287), done.\u001b[K\n",
      "remote: Compressing objects: 100% (201/201), done.\u001b[K\n",
      "remote: Total 7670 (delta 188), reused 171 (delta 85), pack-reused 7383\u001b[K\n",
      "Receiving objects: 100% (7670/7670), 53.96 MiB | 20.97 MiB/s, done.\n",
      "Resolving deltas: 100% (5115/5115), done.\n",
      "Collecting ta\n",
      "  Downloading https://files.pythonhosted.org/packages/a1/69/602e636dd2ed3bc15fcae514c5918049a8e02490d660f601f464c91985e1/ta-0.5.15.tar.gz\n",
      "Requirement already satisfied, skipping upgrade: numpy in /usr/local/lib/python3.6/dist-packages (from ta) (1.18.2)\n",
      "Requirement already satisfied, skipping upgrade: pandas in /usr/local/lib/python3.6/dist-packages (from ta) (0.25.3)\n",
      "Requirement already satisfied, skipping upgrade: pytz>=2017.2 in /usr/local/lib/python3.6/dist-packages (from pandas->ta) (2018.9)\n",
      "Requirement already satisfied, skipping upgrade: python-dateutil>=2.6.1 in /usr/local/lib/python3.6/dist-packages (from pandas->ta) (2.8.1)\n",
      "Requirement already satisfied, skipping upgrade: six>=1.5 in /usr/local/lib/python3.6/dist-packages (from python-dateutil>=2.6.1->pandas->ta) (1.12.0)\n",
      "Building wheels for collected packages: ta\n",
      "  Building wheel for ta (setup.py) ... \u001b[?25l\u001b[?25hdone\n",
      "  Created wheel for ta: filename=ta-0.5.15-cp36-none-any.whl size=23439 sha256=1a825dfd41b8282243041c3fd15cbee7bfc5d824dfa6d7df4c8437b835793e88\n",
      "  Stored in directory: /root/.cache/pip/wheels/53/b3/ec/93bd3d04147adcf06fab4ba9926b1150c987d8ffa053374709\n",
      "Successfully built ta\n",
      "Installing collected packages: ta\n",
      "Successfully installed ta-0.5.15\n"
     ]
    }
   ],
   "source": [
    "%tensorflow_version 2.x\n",
    "!git clone https://github.com/tensortrade-org/tensortrade.git\n",
    "!pip install -U ta"
   ]
  },
  {
   "cell_type": "code",
   "execution_count": 2,
   "metadata": {
    "colab": {
     "base_uri": "https://localhost:8080/",
     "height": 34
    },
    "colab_type": "code",
    "id": "Q6vvC6tNTw4S",
    "outputId": "d22a7ab6-8573-4099-e65f-867f5a9e8c9d"
   },
   "outputs": [
    {
     "name": "stdout",
     "output_type": "stream",
     "text": [
      "/content/tensortrade\n"
     ]
    }
   ],
   "source": [
    "cd tensortrade"
   ]
  },
  {
   "cell_type": "code",
   "execution_count": 3,
   "metadata": {
    "colab": {
     "base_uri": "https://localhost:8080/",
     "height": 527
    },
    "colab_type": "code",
    "id": "w6FrukoUT-vJ",
    "outputId": "49212276-fb11-438f-d57c-b05344ad3fda"
   },
   "outputs": [
    {
     "name": "stdout",
     "output_type": "stream",
     "text": [
      "Requirement already satisfied: numpy>=1.16.4 in /usr/local/lib/python3.6/dist-packages (from -r requirements.txt (line 1)) (1.18.2)\n",
      "Requirement already satisfied: pandas>=0.25.0 in /usr/local/lib/python3.6/dist-packages (from -r requirements.txt (line 2)) (0.25.3)\n",
      "Requirement already satisfied: gym>=0.14.0 in /usr/local/lib/python3.6/dist-packages (from -r requirements.txt (line 3)) (0.17.1)\n",
      "Collecting pyyaml>=5.1.2\n",
      "\u001b[?25l  Downloading https://files.pythonhosted.org/packages/64/c2/b80047c7ac2478f9501676c988a5411ed5572f35d1beff9cae07d321512c/PyYAML-5.3.1.tar.gz (269kB)\n",
      "\u001b[K     |████████████████████████████████| 276kB 2.8MB/s \n",
      "\u001b[?25hCollecting sympy>=1.4\n",
      "\u001b[?25l  Downloading https://files.pythonhosted.org/packages/ce/5b/acc12e3c0d0be685601fc2b2d20ed18dc0bf461380e763afc9d0a548deb0/sympy-1.5.1-py2.py3-none-any.whl (5.6MB)\n",
      "\u001b[K     |████████████████████████████████| 5.6MB 9.1MB/s \n",
      "\u001b[?25hRequirement already satisfied: pytz>=2017.2 in /usr/local/lib/python3.6/dist-packages (from pandas>=0.25.0->-r requirements.txt (line 2)) (2018.9)\n",
      "Requirement already satisfied: python-dateutil>=2.6.1 in /usr/local/lib/python3.6/dist-packages (from pandas>=0.25.0->-r requirements.txt (line 2)) (2.8.1)\n",
      "Requirement already satisfied: pyglet<=1.5.0,>=1.4.0 in /usr/local/lib/python3.6/dist-packages (from gym>=0.14.0->-r requirements.txt (line 3)) (1.5.0)\n",
      "Requirement already satisfied: six in /usr/local/lib/python3.6/dist-packages (from gym>=0.14.0->-r requirements.txt (line 3)) (1.12.0)\n",
      "Requirement already satisfied: cloudpickle<1.4.0,>=1.2.0 in /usr/local/lib/python3.6/dist-packages (from gym>=0.14.0->-r requirements.txt (line 3)) (1.3.0)\n",
      "Requirement already satisfied: scipy in /usr/local/lib/python3.6/dist-packages (from gym>=0.14.0->-r requirements.txt (line 3)) (1.4.1)\n",
      "Requirement already satisfied: mpmath>=0.19 in /usr/local/lib/python3.6/dist-packages (from sympy>=1.4->-r requirements.txt (line 5)) (1.1.0)\n",
      "Requirement already satisfied: future in /usr/local/lib/python3.6/dist-packages (from pyglet<=1.5.0,>=1.4.0->gym>=0.14.0->-r requirements.txt (line 3)) (0.16.0)\n",
      "Building wheels for collected packages: pyyaml\n",
      "  Building wheel for pyyaml (setup.py) ... \u001b[?25l\u001b[?25hdone\n",
      "  Created wheel for pyyaml: filename=PyYAML-5.3.1-cp36-cp36m-linux_x86_64.whl size=44621 sha256=48c62b8ff4a26e3dad8fa0e7fa549206625c3f5c2778c6b1bb0c3421d9bfcc69\n",
      "  Stored in directory: /root/.cache/pip/wheels/a7/c1/ea/cf5bd31012e735dc1dfea3131a2d5eae7978b251083d6247bd\n",
      "Successfully built pyyaml\n",
      "Installing collected packages: pyyaml, sympy\n",
      "  Found existing installation: PyYAML 3.13\n",
      "    Uninstalling PyYAML-3.13:\n",
      "      Successfully uninstalled PyYAML-3.13\n",
      "  Found existing installation: sympy 1.1.1\n",
      "    Uninstalling sympy-1.1.1:\n",
      "      Successfully uninstalled sympy-1.1.1\n",
      "Successfully installed pyyaml-5.3.1 sympy-1.5.1\n"
     ]
    }
   ],
   "source": [
    "!pip install -r requirements.txt"
   ]
  },
  {
   "cell_type": "code",
   "execution_count": 0,
   "metadata": {
    "colab": {},
    "colab_type": "code",
    "id": "qVrFO-gVUVgK"
   },
   "outputs": [],
   "source": [
    "!mkdir /content/agents\n",
    "!mkdir /content/data"
   ]
  },
  {
   "cell_type": "code",
   "execution_count": 0,
   "metadata": {
    "colab": {},
    "colab_type": "code",
    "id": "0EvP38z1MHeq"
   },
   "outputs": [],
   "source": [
    "import pandas as pd\n",
    "import numpy as np\n",
    "%matplotlib inline\n",
    "\n",
    "import ta\n",
    "from tensortrade.data import DataFeed, Module\n",
    "from tensortrade.exchanges import Exchange\n",
    "from tensortrade.exchanges.services.execution.simulated import execute_order\n",
    "from tensortrade.data import Stream, DataFeed, Module\n",
    "from tensortrade.instruments import USD, BTC, ETH, LTC\n",
    "from tensortrade.wallets import Wallet, Portfolio\n",
    "from tensortrade.environments import TradingEnvironment\n",
    "\n",
    "from tensortrade.agents import DQNAgent\n",
    "from tensortrade.agents import A2CAgent"
   ]
  },
  {
   "cell_type": "code",
   "execution_count": 8,
   "metadata": {
    "colab": {
     "base_uri": "https://localhost:8080/",
     "height": 204
    },
    "colab_type": "code",
    "id": "E_AaW_NrVHV1",
    "outputId": "9e6b4ae7-3e03-47f8-a5fe-300d34a71712"
   },
   "outputs": [
    {
     "data": {
      "text/html": [
       "<div>\n",
       "<style scoped>\n",
       "    .dataframe tbody tr th:only-of-type {\n",
       "        vertical-align: middle;\n",
       "    }\n",
       "\n",
       "    .dataframe tbody tr th {\n",
       "        vertical-align: top;\n",
       "    }\n",
       "\n",
       "    .dataframe thead th {\n",
       "        text-align: right;\n",
       "    }\n",
       "</style>\n",
       "<table border=\"1\" class=\"dataframe\">\n",
       "  <thead>\n",
       "    <tr style=\"text-align: right;\">\n",
       "      <th></th>\n",
       "      <th>datetime</th>\n",
       "      <th>open</th>\n",
       "      <th>high</th>\n",
       "      <th>low</th>\n",
       "      <th>close</th>\n",
       "      <th>volume</th>\n",
       "      <th>y2_hat</th>\n",
       "    </tr>\n",
       "  </thead>\n",
       "  <tbody>\n",
       "    <tr>\n",
       "      <th>587</th>\n",
       "      <td>2019-10-19</td>\n",
       "      <td>7950.48</td>\n",
       "      <td>8096.76</td>\n",
       "      <td>7875.00</td>\n",
       "      <td>7960.49</td>\n",
       "      <td>3461.125292</td>\n",
       "      <td>0.003603</td>\n",
       "    </tr>\n",
       "    <tr>\n",
       "      <th>588</th>\n",
       "      <td>2019-10-20</td>\n",
       "      <td>7965.39</td>\n",
       "      <td>8314.77</td>\n",
       "      <td>7874.68</td>\n",
       "      <td>8235.74</td>\n",
       "      <td>6358.924991</td>\n",
       "      <td>0.003452</td>\n",
       "    </tr>\n",
       "    <tr>\n",
       "      <th>589</th>\n",
       "      <td>2019-10-21</td>\n",
       "      <td>8236.49</td>\n",
       "      <td>8352.00</td>\n",
       "      <td>8156.00</td>\n",
       "      <td>8213.65</td>\n",
       "      <td>4919.734168</td>\n",
       "      <td>0.000227</td>\n",
       "    </tr>\n",
       "    <tr>\n",
       "      <th>590</th>\n",
       "      <td>2019-10-22</td>\n",
       "      <td>8206.53</td>\n",
       "      <td>8314.77</td>\n",
       "      <td>7989.15</td>\n",
       "      <td>8025.90</td>\n",
       "      <td>5678.934831</td>\n",
       "      <td>-0.000325</td>\n",
       "    </tr>\n",
       "    <tr>\n",
       "      <th>591</th>\n",
       "      <td>2019-10-23</td>\n",
       "      <td>8021.57</td>\n",
       "      <td>8052.04</td>\n",
       "      <td>7920.40</td>\n",
       "      <td>7995.47</td>\n",
       "      <td>1588.417045</td>\n",
       "      <td>0.000585</td>\n",
       "    </tr>\n",
       "  </tbody>\n",
       "</table>\n",
       "</div>"
      ],
      "text/plain": [
       "       datetime     open     high      low    close       volume    y2_hat\n",
       "587  2019-10-19  7950.48  8096.76  7875.00  7960.49  3461.125292  0.003603\n",
       "588  2019-10-20  7965.39  8314.77  7874.68  8235.74  6358.924991  0.003452\n",
       "589  2019-10-21  8236.49  8352.00  8156.00  8213.65  4919.734168  0.000227\n",
       "590  2019-10-22  8206.53  8314.77  7989.15  8025.90  5678.934831 -0.000325\n",
       "591  2019-10-23  8021.57  8052.04  7920.40  7995.47  1588.417045  0.000585"
      ]
     },
     "execution_count": 8,
     "metadata": {
      "tags": []
     },
     "output_type": "execute_result"
    }
   ],
   "source": [
    "import pandas as pd\n",
    "\n",
    "def load_csv(filename):\n",
    "    df = pd.read_csv(filename)\n",
    "    # Convert the date column type from string to datetime for proper sorting.\n",
    "    df['date'] = pd.to_datetime(df['date'])\n",
    "\n",
    "    # Make sure historical prices are sorted chronologically, oldest first.\n",
    "    df.sort_values(by='date', ascending=True, inplace=True)\n",
    "    df.reset_index(drop=True, inplace=True)\n",
    "\n",
    "    # Format timestamps as you want them to appear on the chart buy/sell marks.\n",
    "    df['date'] = df['date'].dt.strftime('%Y-%m-%d')\n",
    "\n",
    "    # PlotlyTradingChart expects 'datetime' as the timestamps column name.\n",
    "    df.rename(columns={'date': 'datetime'}, inplace=True)\n",
    "\n",
    "    return df\n",
    "\n",
    "df = load_csv('/content/data/hz_data.csv')\n",
    "df.tail()"
   ]
  },
  {
   "cell_type": "code",
   "execution_count": 0,
   "metadata": {
    "colab": {},
    "colab_type": "code",
    "id": "h9w0HfeoVHdz"
   },
   "outputs": [],
   "source": [
    "import ta\n",
    "from tensortrade.data import DataFeed, Module\n",
    "\n",
    "dataset = ta.add_all_ta_features(df, 'open', 'high', 'low', 'close', 'volume', fillna=True)\n",
    "dataset.head(3)"
   ]
  },
  {
   "cell_type": "code",
   "execution_count": 0,
   "metadata": {
    "colab": {
     "base_uri": "https://localhost:8080/",
     "height": 142
    },
    "colab_type": "code",
    "id": "Cvz05VrrVHiu",
    "outputId": "7358d794-fa77-48c0-ba59-592cfcbc11b3"
   },
   "outputs": [
    {
     "data": {
      "text/html": [
       "<div>\n",
       "<style scoped>\n",
       "    .dataframe tbody tr th:only-of-type {\n",
       "        vertical-align: middle;\n",
       "    }\n",
       "\n",
       "    .dataframe tbody tr th {\n",
       "        vertical-align: top;\n",
       "    }\n",
       "\n",
       "    .dataframe thead th {\n",
       "        text-align: right;\n",
       "    }\n",
       "</style>\n",
       "<table border=\"1\" class=\"dataframe\">\n",
       "  <thead>\n",
       "    <tr style=\"text-align: right;\">\n",
       "      <th></th>\n",
       "      <th>datetime</th>\n",
       "      <th>open</th>\n",
       "      <th>high</th>\n",
       "      <th>low</th>\n",
       "      <th>close</th>\n",
       "      <th>volume</th>\n",
       "    </tr>\n",
       "  </thead>\n",
       "  <tbody>\n",
       "    <tr>\n",
       "      <th>0</th>\n",
       "      <td>2018-03-11</td>\n",
       "      <td>8795.04</td>\n",
       "      <td>9768.37</td>\n",
       "      <td>8450.00</td>\n",
       "      <td>9535.04</td>\n",
       "      <td>16407.54238</td>\n",
       "    </tr>\n",
       "    <tr>\n",
       "      <th>1</th>\n",
       "      <td>2018-03-12</td>\n",
       "      <td>9535.04</td>\n",
       "      <td>9892.00</td>\n",
       "      <td>8742.07</td>\n",
       "      <td>9120.75</td>\n",
       "      <td>18751.02058</td>\n",
       "    </tr>\n",
       "    <tr>\n",
       "      <th>2</th>\n",
       "      <td>2018-03-13</td>\n",
       "      <td>9115.24</td>\n",
       "      <td>9482.79</td>\n",
       "      <td>8830.00</td>\n",
       "      <td>9142.32</td>\n",
       "      <td>16001.47535</td>\n",
       "    </tr>\n",
       "  </tbody>\n",
       "</table>\n",
       "</div>"
      ],
      "text/plain": [
       "     datetime     open     high      low    close       volume\n",
       "0  2018-03-11  8795.04  9768.37  8450.00  9535.04  16407.54238\n",
       "1  2018-03-12  9535.04  9892.00  8742.07  9120.75  18751.02058\n",
       "2  2018-03-13  9115.24  9482.79  8830.00  9142.32  16001.47535"
      ]
     },
     "metadata": {
      "tags": []
     },
     "output_type": "display_data"
    }
   ],
   "source": [
    "price_history = dataset[['datetime', 'open', 'high', 'low', 'close', 'volume']]  # chart data\n",
    "display(price_history.head(3))\n",
    "\n",
    "dataset.drop(columns=['datetime', 'open', 'high', 'low', 'close', 'volume'], inplace=True)"
   ]
  },
  {
   "cell_type": "code",
   "execution_count": 0,
   "metadata": {
    "colab": {
     "base_uri": "https://localhost:8080/",
     "height": 1000
    },
    "colab_type": "code",
    "id": "WDdshe5XVHk3",
    "outputId": "7e3ca3db-8678-4a11-eaa1-492bd003dc01"
   },
   "outputs": [
    {
     "data": {
      "text/plain": [
       "{'coinbase:/momentum_ao': 0.0,\n",
       " 'coinbase:/momentum_kama': 9535.04,\n",
       " 'coinbase:/momentum_mfi': 50.0,\n",
       " 'coinbase:/momentum_roc': 0.0,\n",
       " 'coinbase:/momentum_rsi': 100.0,\n",
       " 'coinbase:/momentum_stoch': 82.30163004315938,\n",
       " 'coinbase:/momentum_stoch_signal': 82.30163004315938,\n",
       " 'coinbase:/momentum_tsi': 0.0,\n",
       " 'coinbase:/momentum_uo': 50.0,\n",
       " 'coinbase:/momentum_wr': -17.69836995684063,\n",
       " 'coinbase:/others_cr': 0.0,\n",
       " 'coinbase:/others_dlr': 0.0,\n",
       " 'coinbase:/others_dr': 37.03698680179694,\n",
       " 'coinbase:/trend_adx': 0.0,\n",
       " 'coinbase:/trend_adx_neg': 0.0,\n",
       " 'coinbase:/trend_adx_pos': 0.0,\n",
       " 'coinbase:/trend_aroon_down': 4.0,\n",
       " 'coinbase:/trend_aroon_ind': 0.0,\n",
       " 'coinbase:/trend_aroon_up': 4.0,\n",
       " 'coinbase:/trend_cci': 0.0,\n",
       " 'coinbase:/trend_dpo': -2577.035287162161,\n",
       " 'coinbase:/trend_ema_fast': 9535.04,\n",
       " 'coinbase:/trend_ema_slow': 9535.04,\n",
       " 'coinbase:/trend_ichimoku_a': 9109.185000000001,\n",
       " 'coinbase:/trend_ichimoku_b': 9109.185000000001,\n",
       " 'coinbase:/trend_kst': 370.3698680179695,\n",
       " 'coinbase:/trend_kst_diff': 0.0,\n",
       " 'coinbase:/trend_kst_sig': 370.3698680179695,\n",
       " 'coinbase:/trend_macd': 0.0,\n",
       " 'coinbase:/trend_macd_diff': 0.0,\n",
       " 'coinbase:/trend_macd_signal': 0.0,\n",
       " 'coinbase:/trend_mass_index': 1.0,\n",
       " 'coinbase:/trend_psar': 9535.04,\n",
       " 'coinbase:/trend_psar_down': -1.0,\n",
       " 'coinbase:/trend_psar_down_indicator': 0.0,\n",
       " 'coinbase:/trend_psar_up': -1.0,\n",
       " 'coinbase:/trend_psar_up_indicator': 0.0,\n",
       " 'coinbase:/trend_trix': 36.24669700257624,\n",
       " 'coinbase:/trend_visual_ichimoku_a': 6998.578475506762,\n",
       " 'coinbase:/trend_visual_ichimoku_b': 7113.944231418929,\n",
       " 'coinbase:/trend_vortex_ind_diff': 0.0,\n",
       " 'coinbase:/trend_vortex_ind_neg': 1.0,\n",
       " 'coinbase:/trend_vortex_ind_pos': 1.0,\n",
       " 'coinbase:/volatility_atr': 0.0,\n",
       " 'coinbase:/volatility_bbh': 9535.04,\n",
       " 'coinbase:/volatility_bbhi': 0.0,\n",
       " 'coinbase:/volatility_bbl': 9535.04,\n",
       " 'coinbase:/volatility_bbli': 0.0,\n",
       " 'coinbase:/volatility_bbm': 9535.04,\n",
       " 'coinbase:/volatility_bbp': 0.0,\n",
       " 'coinbase:/volatility_bbw': 0.0,\n",
       " 'coinbase:/volatility_dch': 9535.04,\n",
       " 'coinbase:/volatility_dchi': 1.0,\n",
       " 'coinbase:/volatility_dcl': 9535.04,\n",
       " 'coinbase:/volatility_dcli': 1.0,\n",
       " 'coinbase:/volatility_kcc': 9251.136666666667,\n",
       " 'coinbase:/volatility_kch': 10569.506666666668,\n",
       " 'coinbase:/volatility_kchi': 0.0,\n",
       " 'coinbase:/volatility_kcl': 7932.766666666666,\n",
       " 'coinbase:/volatility_kcli': 0.0,\n",
       " 'coinbase:/volatility_kcp': 0.6076721001438645,\n",
       " 'coinbase:/volatility_kcw': 28.501794914570873,\n",
       " 'coinbase:/volume_adi': 10599.807277524375,\n",
       " 'coinbase:/volume_cmf': 0.6460326008631875,\n",
       " 'coinbase:/volume_em': 0.0,\n",
       " 'coinbase:/volume_fi': 0.0,\n",
       " 'coinbase:/volume_nvi': 1000.0,\n",
       " 'coinbase:/volume_obv': 16407.542380000003,\n",
       " 'coinbase:/volume_sma_em': 0.0,\n",
       " 'coinbase:/volume_vpt': 6080.713723685023,\n",
       " 'coinbase:/y2_hat': -0.002261962}"
      ]
     },
     "execution_count": 8,
     "metadata": {
      "tags": []
     },
     "output_type": "execute_result"
    }
   ],
   "source": [
    "from tensortrade.exchanges import Exchange\n",
    "from tensortrade.exchanges.services.execution.simulated import execute_order\n",
    "from tensortrade.data import Stream, DataFeed, Module\n",
    "from tensortrade.instruments import USD, BTC, ETH, LTC\n",
    "from tensortrade.wallets import Wallet, Portfolio\n",
    "from tensortrade.environments import TradingEnvironment\n",
    "\n",
    "coinbase = Exchange(\"coinbase\", service=execute_order)(\n",
    "    Stream(\"USD-BTC\", price_history['close'].tolist())\n",
    ")\n",
    "\n",
    "portfolio = Portfolio(USD, [\n",
    "    Wallet(coinbase, 10000 * USD),\n",
    "    Wallet(coinbase, 10 * BTC),\n",
    "])\n",
    "\n",
    "with Module(\"coinbase\") as coinbase_ns:\n",
    "    nodes = [Stream(name, dataset[name].tolist()) for name in dataset.columns]\n",
    "\n",
    "feed = DataFeed([coinbase_ns])\n",
    "feed.next()"
   ]
  },
  {
   "cell_type": "code",
   "execution_count": 0,
   "metadata": {
    "colab": {
     "base_uri": "https://localhost:8080/",
     "height": 85
    },
    "colab_type": "code",
    "id": "MTpkBSLXVHo3",
    "outputId": "1a5a6001-1535-4600-8232-c4a112f36139"
   },
   "outputs": [
    {
     "name": "stderr",
     "output_type": "stream",
     "text": [
      "/usr/local/lib/python3.6/dist-packages/gym/logger.py:30: UserWarning:\n",
      "\n",
      "\u001b[33mWARN: Box bound precision lowered by casting to float32\u001b[0m\n",
      "\n"
     ]
    }
   ],
   "source": [
    "env = TradingEnvironment(\n",
    "    feed=feed,\n",
    "    portfolio=portfolio,\n",
    "    action_scheme='managed-risk',\n",
    "    reward_scheme='risk-adjusted',\n",
    "    window_size=20\n",
    ")"
   ]
  },
  {
   "cell_type": "code",
   "execution_count": 0,
   "metadata": {
    "colab": {
     "base_uri": "https://localhost:8080/",
     "height": 697
    },
    "colab_type": "code",
    "id": "jpleq9IeVHry",
    "outputId": "8de16d85-a046-4018-f50e-76c042fbcb93"
   },
   "outputs": [
    {
     "name": "stdout",
     "output_type": "stream",
     "text": [
      "====      AGENT ID: 0d76af7d-78d9-432a-b3b1-c430b56229e0      ====\n",
      "[2020-03-21 10:11:42 PM] Episode: 1/10 Step: 150/200\n",
      "[2020-03-21 10:11:49 PM] Episode: 1/10 Step: 200/200\n",
      "[2020-03-21 10:11:56 PM] Episode: 2/10 Step: 50/200\n",
      "[2020-03-21 10:12:03 PM] Episode: 2/10 Step: 100/200\n",
      "[2020-03-21 10:12:10 PM] Episode: 2/10 Step: 150/200\n",
      "[2020-03-21 10:12:16 PM] Episode: 2/10 Step: 200/200\n",
      "[2020-03-21 10:12:23 PM] Episode: 3/10 Step: 50/200\n",
      "[2020-03-21 10:12:30 PM] Episode: 3/10 Step: 100/200\n",
      "[2020-03-21 10:12:37 PM] Episode: 3/10 Step: 150/200\n",
      "[2020-03-21 10:12:44 PM] Episode: 3/10 Step: 200/200\n",
      "[2020-03-21 10:12:51 PM] Episode: 4/10 Step: 50/200\n",
      "[2020-03-21 10:12:58 PM] Episode: 4/10 Step: 100/200\n",
      "[2020-03-21 10:13:04 PM] Episode: 4/10 Step: 150/200\n",
      "[2020-03-21 10:13:11 PM] Episode: 4/10 Step: 200/200\n",
      "[2020-03-21 10:13:18 PM] Episode: 5/10 Step: 50/200\n",
      "[2020-03-21 10:13:25 PM] Episode: 5/10 Step: 100/200\n",
      "[2020-03-21 10:13:32 PM] Episode: 5/10 Step: 150/200\n",
      "[2020-03-21 10:13:38 PM] Episode: 5/10 Step: 200/200\n",
      "[2020-03-21 10:13:45 PM] Episode: 6/10 Step: 50/200\n",
      "[2020-03-21 10:13:52 PM] Episode: 6/10 Step: 100/200\n",
      "[2020-03-21 10:13:59 PM] Episode: 6/10 Step: 150/200\n",
      "[2020-03-21 10:14:06 PM] Episode: 6/10 Step: 200/200\n",
      "[2020-03-21 10:14:13 PM] Episode: 7/10 Step: 50/200\n",
      "[2020-03-21 10:14:20 PM] Episode: 7/10 Step: 100/200\n",
      "[2020-03-21 10:14:27 PM] Episode: 7/10 Step: 150/200\n",
      "[2020-03-21 10:14:34 PM] Episode: 7/10 Step: 200/200\n",
      "[2020-03-21 10:14:40 PM] Episode: 8/10 Step: 50/200\n",
      "[2020-03-21 10:14:47 PM] Episode: 8/10 Step: 100/200\n",
      "[2020-03-21 10:14:54 PM] Episode: 8/10 Step: 150/200\n",
      "[2020-03-21 10:15:01 PM] Episode: 8/10 Step: 200/200\n",
      "[2020-03-21 10:15:08 PM] Episode: 9/10 Step: 50/200\n",
      "[2020-03-21 10:15:15 PM] Episode: 9/10 Step: 100/200\n",
      "[2020-03-21 10:15:22 PM] Episode: 9/10 Step: 150/200\n",
      "[2020-03-21 10:15:29 PM] Episode: 9/10 Step: 200/200\n",
      "[2020-03-21 10:15:36 PM] Episode: 10/10 Step: 50/200\n",
      "[2020-03-21 10:15:43 PM] Episode: 10/10 Step: 100/200\n",
      "[2020-03-21 10:15:49 PM] Episode: 10/10 Step: 150/200\n",
      "[2020-03-21 10:15:56 PM] Episode: 10/10 Step: 200/200\n"
     ]
    },
    {
     "data": {
      "text/plain": [
       "911000.4083567932"
      ]
     },
     "execution_count": 10,
     "metadata": {
      "tags": []
     },
     "output_type": "execute_result"
    }
   ],
   "source": [
    "from tensortrade.agents import DQNAgent\n",
    "agent = DQNAgent(env)\n",
    "agent.train(n_episodes=10, n_steps=200, save_path=\"../agents/\")"
   ]
  },
  {
   "cell_type": "code",
   "execution_count": 0,
   "metadata": {
    "colab": {},
    "colab_type": "code",
    "id": "fSiXuLIjv3Nc"
   },
   "outputs": [],
   "source": [
    "# from tensortrade.agents import A2CAgent\n",
    "# agent = A2CAgent(env)\n",
    "# agent.train(n_episodes=4, n_steps=200, save_path=\"../agents/\")"
   ]
  },
  {
   "cell_type": "code",
   "execution_count": 0,
   "metadata": {
    "colab": {
     "base_uri": "https://localhost:8080/",
     "height": 847
    },
    "colab_type": "code",
    "id": "4hJldk7_YyLX",
    "outputId": "61e52f92-1049-4663-d417-cafb058cc43a"
   },
   "outputs": [
    {
     "name": "stdout",
     "output_type": "stream",
     "text": [
      "step\n",
      "0      105350.400000\n",
      "1      101976.384020\n",
      "2      103704.154744\n",
      "3       97550.631654\n",
      "4      106953.327086\n",
      "           ...      \n",
      "196    101996.257209\n",
      "197    100292.561614\n",
      "198     98193.554290\n",
      "199     98647.564485\n",
      "200    101720.509873\n",
      "Name: net_worth, Length: 201, dtype: float64\n"
     ]
    },
    {
     "data": {
      "text/plain": [
       "<matplotlib.axes._subplots.AxesSubplot at 0x7f5fabea9908>"
      ]
     },
     "execution_count": 11,
     "metadata": {
      "tags": []
     },
     "output_type": "execute_result"
    },
    {
     "data": {
      "image/png": "[encoded data removed]",
      "text/plain": [
       "<Figure size 1152x720 with 1 Axes>"
      ]
     },
     "metadata": {
      "tags": []
     },
     "output_type": "display_data"
    }
   ],
   "source": [
    "%matplotlib inline\n",
    "print(portfolio.performance.net_worth)\n",
    "portfolio.performance.net_worth.plot(figsize=(16,10))"
   ]
  },
  {
   "cell_type": "markdown",
   "metadata": {
    "colab_type": "text",
    "id": "IGo98u_OK9df"
   },
   "source": [
    "## Backtesing"
   ]
  },
  {
   "cell_type": "code",
   "execution_count": 9,
   "metadata": {
    "colab": {
     "base_uri": "https://localhost:8080/",
     "height": 204
    },
    "colab_type": "code",
    "id": "O-t9kGb1-SzF",
    "outputId": "5d71a058-7daf-42ad-e76e-9e1486200bc8"
   },
   "outputs": [
    {
     "data": {
      "text/html": [
       "<div>\n",
       "<style scoped>\n",
       "    .dataframe tbody tr th:only-of-type {\n",
       "        vertical-align: middle;\n",
       "    }\n",
       "\n",
       "    .dataframe tbody tr th {\n",
       "        vertical-align: top;\n",
       "    }\n",
       "\n",
       "    .dataframe thead th {\n",
       "        text-align: right;\n",
       "    }\n",
       "</style>\n",
       "<table border=\"1\" class=\"dataframe\">\n",
       "  <thead>\n",
       "    <tr style=\"text-align: right;\">\n",
       "      <th></th>\n",
       "      <th>datetime</th>\n",
       "      <th>open</th>\n",
       "      <th>high</th>\n",
       "      <th>low</th>\n",
       "      <th>close</th>\n",
       "      <th>volume</th>\n",
       "    </tr>\n",
       "  </thead>\n",
       "  <tbody>\n",
       "    <tr>\n",
       "      <th>858</th>\n",
       "      <td>2018-02-26</td>\n",
       "      <td>9595.99</td>\n",
       "      <td>10461.97</td>\n",
       "      <td>9376.34</td>\n",
       "      <td>10324.70</td>\n",
       "      <td>16156.805056</td>\n",
       "    </tr>\n",
       "    <tr>\n",
       "      <th>859</th>\n",
       "      <td>2018-02-27</td>\n",
       "      <td>10329.99</td>\n",
       "      <td>10850.00</td>\n",
       "      <td>10150.00</td>\n",
       "      <td>10566.30</td>\n",
       "      <td>10408.479938</td>\n",
       "    </tr>\n",
       "    <tr>\n",
       "      <th>860</th>\n",
       "      <td>2018-02-28</td>\n",
       "      <td>10572.49</td>\n",
       "      <td>11064.75</td>\n",
       "      <td>10255.07</td>\n",
       "      <td>10314.90</td>\n",
       "      <td>10490.749058</td>\n",
       "    </tr>\n",
       "    <tr>\n",
       "      <th>861</th>\n",
       "      <td>2018-03-01</td>\n",
       "      <td>10314.99</td>\n",
       "      <td>11090.00</td>\n",
       "      <td>10223.41</td>\n",
       "      <td>10903.13</td>\n",
       "      <td>9481.665146</td>\n",
       "    </tr>\n",
       "    <tr>\n",
       "      <th>862</th>\n",
       "      <td>2018-03-02</td>\n",
       "      <td>10917.37</td>\n",
       "      <td>11175.00</td>\n",
       "      <td>10774.01</td>\n",
       "      <td>11029.99</td>\n",
       "      <td>8329.097901</td>\n",
       "    </tr>\n",
       "  </tbody>\n",
       "</table>\n",
       "</div>"
      ],
      "text/plain": [
       "       datetime      open      high       low     close        volume\n",
       "858  2018-02-26   9595.99  10461.97   9376.34  10324.70  16156.805056\n",
       "859  2018-02-27  10329.99  10850.00  10150.00  10566.30  10408.479938\n",
       "860  2018-02-28  10572.49  11064.75  10255.07  10314.90  10490.749058\n",
       "861  2018-03-01  10314.99  11090.00  10223.41  10903.13   9481.665146\n",
       "862  2018-03-02  10917.37  11175.00  10774.01  11029.99   8329.097901"
      ]
     },
     "execution_count": 9,
     "metadata": {
      "tags": []
     },
     "output_type": "execute_result"
    }
   ],
   "source": [
    "df1 = load_csv(\"/content/data/BTCUSD_1d.csv\")\n",
    "df1 = df1[1500:-600].reset_index(drop = True)\n",
    "df1.tail()"
   ]
  },
  {
   "cell_type": "code",
   "execution_count": 10,
   "metadata": {
    "colab": {
     "base_uri": "https://localhost:8080/",
     "height": 349
    },
    "colab_type": "code",
    "id": "9sUemsZlFcRE",
    "outputId": "5550ab46-6b0c-420a-a7eb-764f0ee4b41d"
   },
   "outputs": [
    {
     "name": "stderr",
     "output_type": "stream",
     "text": [
      "/usr/local/lib/python3.6/dist-packages/ta/trend.py:543: RuntimeWarning:\n",
      "\n",
      "invalid value encountered in double_scalars\n",
      "\n",
      "/usr/local/lib/python3.6/dist-packages/ta/trend.py:547: RuntimeWarning:\n",
      "\n",
      "invalid value encountered in double_scalars\n",
      "\n"
     ]
    },
    {
     "data": {
      "text/html": [
       "<div>\n",
       "<style scoped>\n",
       "    .dataframe tbody tr th:only-of-type {\n",
       "        vertical-align: middle;\n",
       "    }\n",
       "\n",
       "    .dataframe tbody tr th {\n",
       "        vertical-align: top;\n",
       "    }\n",
       "\n",
       "    .dataframe thead th {\n",
       "        text-align: right;\n",
       "    }\n",
       "</style>\n",
       "<table border=\"1\" class=\"dataframe\">\n",
       "  <thead>\n",
       "    <tr style=\"text-align: right;\">\n",
       "      <th></th>\n",
       "      <th>datetime</th>\n",
       "      <th>open</th>\n",
       "      <th>high</th>\n",
       "      <th>low</th>\n",
       "      <th>close</th>\n",
       "      <th>volume</th>\n",
       "      <th>volume_adi</th>\n",
       "      <th>volume_obv</th>\n",
       "      <th>volume_cmf</th>\n",
       "      <th>volume_fi</th>\n",
       "      <th>momentum_mfi</th>\n",
       "      <th>volume_em</th>\n",
       "      <th>volume_sma_em</th>\n",
       "      <th>volume_vpt</th>\n",
       "      <th>volume_nvi</th>\n",
       "      <th>volatility_atr</th>\n",
       "      <th>volatility_bbm</th>\n",
       "      <th>volatility_bbh</th>\n",
       "      <th>volatility_bbl</th>\n",
       "      <th>volatility_bbw</th>\n",
       "      <th>volatility_bbp</th>\n",
       "      <th>volatility_bbhi</th>\n",
       "      <th>volatility_bbli</th>\n",
       "      <th>volatility_kcc</th>\n",
       "      <th>volatility_kch</th>\n",
       "      <th>volatility_kcl</th>\n",
       "      <th>volatility_kcw</th>\n",
       "      <th>volatility_kcp</th>\n",
       "      <th>volatility_kchi</th>\n",
       "      <th>volatility_kcli</th>\n",
       "      <th>volatility_dcl</th>\n",
       "      <th>volatility_dch</th>\n",
       "      <th>volatility_dchi</th>\n",
       "      <th>volatility_dcli</th>\n",
       "      <th>trend_macd</th>\n",
       "      <th>trend_macd_signal</th>\n",
       "      <th>trend_macd_diff</th>\n",
       "      <th>trend_ema_fast</th>\n",
       "      <th>trend_ema_slow</th>\n",
       "      <th>trend_adx</th>\n",
       "      <th>trend_adx_pos</th>\n",
       "      <th>trend_adx_neg</th>\n",
       "      <th>trend_vortex_ind_pos</th>\n",
       "      <th>trend_vortex_ind_neg</th>\n",
       "      <th>trend_vortex_ind_diff</th>\n",
       "      <th>trend_trix</th>\n",
       "      <th>trend_mass_index</th>\n",
       "      <th>trend_cci</th>\n",
       "      <th>trend_dpo</th>\n",
       "      <th>trend_kst</th>\n",
       "      <th>trend_kst_sig</th>\n",
       "      <th>trend_kst_diff</th>\n",
       "      <th>trend_ichimoku_a</th>\n",
       "      <th>trend_ichimoku_b</th>\n",
       "      <th>trend_visual_ichimoku_a</th>\n",
       "      <th>trend_visual_ichimoku_b</th>\n",
       "      <th>trend_aroon_up</th>\n",
       "      <th>trend_aroon_down</th>\n",
       "      <th>trend_aroon_ind</th>\n",
       "      <th>trend_psar</th>\n",
       "      <th>trend_psar_up</th>\n",
       "      <th>trend_psar_down</th>\n",
       "      <th>trend_psar_up_indicator</th>\n",
       "      <th>trend_psar_down_indicator</th>\n",
       "      <th>momentum_rsi</th>\n",
       "      <th>momentum_tsi</th>\n",
       "      <th>momentum_uo</th>\n",
       "      <th>momentum_stoch</th>\n",
       "      <th>momentum_stoch_signal</th>\n",
       "      <th>momentum_wr</th>\n",
       "      <th>momentum_ao</th>\n",
       "      <th>momentum_kama</th>\n",
       "      <th>momentum_roc</th>\n",
       "      <th>others_dr</th>\n",
       "      <th>others_dlr</th>\n",
       "      <th>others_cr</th>\n",
       "    </tr>\n",
       "  </thead>\n",
       "  <tbody>\n",
       "    <tr>\n",
       "      <th>0</th>\n",
       "      <td>2015-10-22</td>\n",
       "      <td>267.90</td>\n",
       "      <td>280.04</td>\n",
       "      <td>267.39</td>\n",
       "      <td>275.21</td>\n",
       "      <td>30166.425443</td>\n",
       "      <td>7130.246014</td>\n",
       "      <td>30166.425443</td>\n",
       "      <td>0.236364</td>\n",
       "      <td>0.000000</td>\n",
       "      <td>50.0</td>\n",
       "      <td>0.000000</td>\n",
       "      <td>0.000000</td>\n",
       "      <td>-27137.171080</td>\n",
       "      <td>1000.000000</td>\n",
       "      <td>0.0</td>\n",
       "      <td>275.210000</td>\n",
       "      <td>275.210000</td>\n",
       "      <td>275.210000</td>\n",
       "      <td>0.000000</td>\n",
       "      <td>0.000000</td>\n",
       "      <td>0.0</td>\n",
       "      <td>0.0</td>\n",
       "      <td>274.213333</td>\n",
       "      <td>286.863333</td>\n",
       "      <td>261.563333</td>\n",
       "      <td>9.226393</td>\n",
       "      <td>0.539394</td>\n",
       "      <td>0.0</td>\n",
       "      <td>0.0</td>\n",
       "      <td>275.21</td>\n",
       "      <td>275.21</td>\n",
       "      <td>1.0</td>\n",
       "      <td>1.0</td>\n",
       "      <td>0.000000</td>\n",
       "      <td>0.000000</td>\n",
       "      <td>0.000000</td>\n",
       "      <td>275.210000</td>\n",
       "      <td>275.210000</td>\n",
       "      <td>0.0</td>\n",
       "      <td>0.0</td>\n",
       "      <td>0.0</td>\n",
       "      <td>1.0</td>\n",
       "      <td>1.0</td>\n",
       "      <td>0.0</td>\n",
       "      <td>-89.022715</td>\n",
       "      <td>1.000000</td>\n",
       "      <td>0.000000</td>\n",
       "      <td>2470.627543</td>\n",
       "      <td>-899.771929</td>\n",
       "      <td>-899.771929</td>\n",
       "      <td>0.000000</td>\n",
       "      <td>273.715</td>\n",
       "      <td>273.715</td>\n",
       "      <td>2619.953082</td>\n",
       "      <td>2524.904009</td>\n",
       "      <td>4.0</td>\n",
       "      <td>4.0</td>\n",
       "      <td>0.0</td>\n",
       "      <td>275.21</td>\n",
       "      <td>-1.0</td>\n",
       "      <td>-1.00</td>\n",
       "      <td>0.0</td>\n",
       "      <td>0.0</td>\n",
       "      <td>100.0</td>\n",
       "      <td>0.0</td>\n",
       "      <td>50.0</td>\n",
       "      <td>61.818182</td>\n",
       "      <td>61.818182</td>\n",
       "      <td>-38.181818</td>\n",
       "      <td>0.0</td>\n",
       "      <td>275.21</td>\n",
       "      <td>0.0</td>\n",
       "      <td>-89.977193</td>\n",
       "      <td>0.000000</td>\n",
       "      <td>0.000000</td>\n",
       "    </tr>\n",
       "    <tr>\n",
       "      <th>1</th>\n",
       "      <td>2015-10-23</td>\n",
       "      <td>275.21</td>\n",
       "      <td>280.19</td>\n",
       "      <td>273.46</td>\n",
       "      <td>278.60</td>\n",
       "      <td>21572.268470</td>\n",
       "      <td>18509.377228</td>\n",
       "      <td>51738.693913</td>\n",
       "      <td>0.357747</td>\n",
       "      <td>73129.990115</td>\n",
       "      <td>50.0</td>\n",
       "      <td>97024.103092</td>\n",
       "      <td>97024.103092</td>\n",
       "      <td>-26877.178494</td>\n",
       "      <td>1012.317866</td>\n",
       "      <td>0.0</td>\n",
       "      <td>276.905000</td>\n",
       "      <td>280.295000</td>\n",
       "      <td>273.515000</td>\n",
       "      <td>2.448493</td>\n",
       "      <td>0.750000</td>\n",
       "      <td>0.0</td>\n",
       "      <td>0.0</td>\n",
       "      <td>275.815000</td>\n",
       "      <td>285.505000</td>\n",
       "      <td>266.125000</td>\n",
       "      <td>7.026449</td>\n",
       "      <td>0.643705</td>\n",
       "      <td>0.0</td>\n",
       "      <td>0.0</td>\n",
       "      <td>275.21</td>\n",
       "      <td>278.60</td>\n",
       "      <td>1.0</td>\n",
       "      <td>0.0</td>\n",
       "      <td>0.270427</td>\n",
       "      <td>0.054085</td>\n",
       "      <td>0.216342</td>\n",
       "      <td>275.731538</td>\n",
       "      <td>275.461111</td>\n",
       "      <td>0.0</td>\n",
       "      <td>0.0</td>\n",
       "      <td>0.0</td>\n",
       "      <td>1.0</td>\n",
       "      <td>1.0</td>\n",
       "      <td>0.0</td>\n",
       "      <td>0.002406</td>\n",
       "      <td>1.923694</td>\n",
       "      <td>66.666667</td>\n",
       "      <td>2468.932543</td>\n",
       "      <td>-899.154631</td>\n",
       "      <td>-899.463280</td>\n",
       "      <td>0.308649</td>\n",
       "      <td>273.790</td>\n",
       "      <td>273.790</td>\n",
       "      <td>2619.953082</td>\n",
       "      <td>2524.904009</td>\n",
       "      <td>8.0</td>\n",
       "      <td>4.0</td>\n",
       "      <td>4.0</td>\n",
       "      <td>278.60</td>\n",
       "      <td>-1.0</td>\n",
       "      <td>-1.00</td>\n",
       "      <td>0.0</td>\n",
       "      <td>0.0</td>\n",
       "      <td>100.0</td>\n",
       "      <td>100.0</td>\n",
       "      <td>50.0</td>\n",
       "      <td>87.578125</td>\n",
       "      <td>74.698153</td>\n",
       "      <td>-12.421875</td>\n",
       "      <td>0.0</td>\n",
       "      <td>278.60</td>\n",
       "      <td>0.0</td>\n",
       "      <td>1.231787</td>\n",
       "      <td>1.224262</td>\n",
       "      <td>1.231787</td>\n",
       "    </tr>\n",
       "    <tr>\n",
       "      <th>2</th>\n",
       "      <td>2015-10-24</td>\n",
       "      <td>278.60</td>\n",
       "      <td>284.00</td>\n",
       "      <td>278.22</td>\n",
       "      <td>282.84</td>\n",
       "      <td>20586.335018</td>\n",
       "      <td>30832.685041</td>\n",
       "      <td>72325.028931</td>\n",
       "      <td>0.426307</td>\n",
       "      <td>75152.285881</td>\n",
       "      <td>50.0</td>\n",
       "      <td>120309.418743</td>\n",
       "      <td>108666.760917</td>\n",
       "      <td>579.026763</td>\n",
       "      <td>1027.724283</td>\n",
       "      <td>0.0</td>\n",
       "      <td>278.883333</td>\n",
       "      <td>285.126075</td>\n",
       "      <td>272.640592</td>\n",
       "      <td>4.476956</td>\n",
       "      <td>0.816901</td>\n",
       "      <td>0.0</td>\n",
       "      <td>0.0</td>\n",
       "      <td>277.772222</td>\n",
       "      <td>286.158889</td>\n",
       "      <td>269.385556</td>\n",
       "      <td>6.038521</td>\n",
       "      <td>0.802133</td>\n",
       "      <td>0.0</td>\n",
       "      <td>0.0</td>\n",
       "      <td>275.21</td>\n",
       "      <td>282.84</td>\n",
       "      <td>1.0</td>\n",
       "      <td>0.0</td>\n",
       "      <td>0.817452</td>\n",
       "      <td>0.206759</td>\n",
       "      <td>0.610694</td>\n",
       "      <td>276.825148</td>\n",
       "      <td>276.007695</td>\n",
       "      <td>0.0</td>\n",
       "      <td>0.0</td>\n",
       "      <td>0.0</td>\n",
       "      <td>1.0</td>\n",
       "      <td>1.0</td>\n",
       "      <td>0.0</td>\n",
       "      <td>0.009324</td>\n",
       "      <td>2.784692</td>\n",
       "      <td>100.000000</td>\n",
       "      <td>2466.954210</td>\n",
       "      <td>-898.434147</td>\n",
       "      <td>-899.120236</td>\n",
       "      <td>0.686089</td>\n",
       "      <td>275.695</td>\n",
       "      <td>275.695</td>\n",
       "      <td>2619.953082</td>\n",
       "      <td>2524.904009</td>\n",
       "      <td>12.0</td>\n",
       "      <td>4.0</td>\n",
       "      <td>8.0</td>\n",
       "      <td>280.04</td>\n",
       "      <td>-1.0</td>\n",
       "      <td>280.04</td>\n",
       "      <td>0.0</td>\n",
       "      <td>1.0</td>\n",
       "      <td>100.0</td>\n",
       "      <td>100.0</td>\n",
       "      <td>50.0</td>\n",
       "      <td>93.016255</td>\n",
       "      <td>80.804187</td>\n",
       "      <td>-6.983745</td>\n",
       "      <td>0.0</td>\n",
       "      <td>282.84</td>\n",
       "      <td>0.0</td>\n",
       "      <td>1.521895</td>\n",
       "      <td>1.510431</td>\n",
       "      <td>2.772428</td>\n",
       "    </tr>\n",
       "  </tbody>\n",
       "</table>\n",
       "</div>"
      ],
      "text/plain": [
       "     datetime    open    high  ...  others_dr  others_dlr  others_cr\n",
       "0  2015-10-22  267.90  280.04  ... -89.977193    0.000000   0.000000\n",
       "1  2015-10-23  275.21  280.19  ...   1.231787    1.224262   1.231787\n",
       "2  2015-10-24  278.60  284.00  ...   1.521895    1.510431   2.772428\n",
       "\n",
       "[3 rows x 76 columns]"
      ]
     },
     "execution_count": 10,
     "metadata": {
      "tags": []
     },
     "output_type": "execute_result"
    }
   ],
   "source": [
    "dataset1 = ta.add_all_ta_features(df1, 'open', 'high', 'low', 'close', 'volume', fillna=True)\n",
    "dataset1.head(3)"
   ]
  },
  {
   "cell_type": "code",
   "execution_count": 11,
   "metadata": {
    "colab": {
     "base_uri": "https://localhost:8080/",
     "height": 142
    },
    "colab_type": "code",
    "id": "FpMmhWhhFi9P",
    "outputId": "2856089f-dcf5-4f4a-f7e4-082562031bb5"
   },
   "outputs": [
    {
     "data": {
      "text/html": [
       "<div>\n",
       "<style scoped>\n",
       "    .dataframe tbody tr th:only-of-type {\n",
       "        vertical-align: middle;\n",
       "    }\n",
       "\n",
       "    .dataframe tbody tr th {\n",
       "        vertical-align: top;\n",
       "    }\n",
       "\n",
       "    .dataframe thead th {\n",
       "        text-align: right;\n",
       "    }\n",
       "</style>\n",
       "<table border=\"1\" class=\"dataframe\">\n",
       "  <thead>\n",
       "    <tr style=\"text-align: right;\">\n",
       "      <th></th>\n",
       "      <th>datetime</th>\n",
       "      <th>open</th>\n",
       "      <th>high</th>\n",
       "      <th>low</th>\n",
       "      <th>close</th>\n",
       "      <th>volume</th>\n",
       "    </tr>\n",
       "  </thead>\n",
       "  <tbody>\n",
       "    <tr>\n",
       "      <th>0</th>\n",
       "      <td>2015-10-22</td>\n",
       "      <td>267.90</td>\n",
       "      <td>280.04</td>\n",
       "      <td>267.39</td>\n",
       "      <td>275.21</td>\n",
       "      <td>30166.425443</td>\n",
       "    </tr>\n",
       "    <tr>\n",
       "      <th>1</th>\n",
       "      <td>2015-10-23</td>\n",
       "      <td>275.21</td>\n",
       "      <td>280.19</td>\n",
       "      <td>273.46</td>\n",
       "      <td>278.60</td>\n",
       "      <td>21572.268470</td>\n",
       "    </tr>\n",
       "    <tr>\n",
       "      <th>2</th>\n",
       "      <td>2015-10-24</td>\n",
       "      <td>278.60</td>\n",
       "      <td>284.00</td>\n",
       "      <td>278.22</td>\n",
       "      <td>282.84</td>\n",
       "      <td>20586.335018</td>\n",
       "    </tr>\n",
       "  </tbody>\n",
       "</table>\n",
       "</div>"
      ],
      "text/plain": [
       "     datetime    open    high     low   close        volume\n",
       "0  2015-10-22  267.90  280.04  267.39  275.21  30166.425443\n",
       "1  2015-10-23  275.21  280.19  273.46  278.60  21572.268470\n",
       "2  2015-10-24  278.60  284.00  278.22  282.84  20586.335018"
      ]
     },
     "metadata": {
      "tags": []
     },
     "output_type": "display_data"
    }
   ],
   "source": [
    "price_history1 = dataset1[['datetime', 'open', 'high', 'low', 'close', 'volume']]  # chart data\n",
    "display(price_history1.head(3))\n",
    "\n",
    "dataset1.drop(columns=['datetime', 'open', 'high', 'low', 'close', 'volume'], inplace=True)\n",
    "dataset1['y2_hat']=np.nan"
   ]
  },
  {
   "cell_type": "code",
   "execution_count": 12,
   "metadata": {
    "colab": {
     "base_uri": "https://localhost:8080/",
     "height": 85
    },
    "colab_type": "code",
    "id": "cbcLh9wQFxpF",
    "outputId": "f9cde8ca-a920-4aa7-d803-d7b520b0e410"
   },
   "outputs": [
    {
     "name": "stderr",
     "output_type": "stream",
     "text": [
      "/usr/local/lib/python3.6/dist-packages/gym/logger.py:30: UserWarning:\n",
      "\n",
      "\u001b[33mWARN: Box bound precision lowered by casting to float32\u001b[0m\n",
      "\n"
     ]
    }
   ],
   "source": [
    "coinbase = Exchange(\"coinbase\", service=execute_order)(\n",
    "    Stream(\"USD-BTC\", price_history1['close'].tolist())\n",
    ")\n",
    "\n",
    "portfolio = Portfolio(USD, [\n",
    "    Wallet(coinbase, 10000 * USD),\n",
    "    Wallet(coinbase, 10 * BTC),\n",
    "])\n",
    "\n",
    "with Module(\"coinbase\") as coinbase_ns:\n",
    "    nodes = [Stream(name, dataset1[name].tolist()) for name in dataset1.columns]\n",
    "\n",
    "feed = DataFeed([coinbase_ns])\n",
    "feed.next()\n",
    "\n",
    "env = TradingEnvironment(\n",
    "    feed=feed,\n",
    "    portfolio=portfolio,\n",
    "    action_scheme='managed-risk',\n",
    "    reward_scheme='risk-adjusted',\n",
    "    window_size=20\n",
    ")\n",
    "agent = DQNAgent(env)\n",
    "agent.restore(path=\"/content/agents/DQN1_10.hdf5\")"
   ]
  },
  {
   "cell_type": "code",
   "execution_count": 16,
   "metadata": {
    "colab": {
     "base_uri": "https://localhost:8080/",
     "height": 1000
    },
    "colab_type": "code",
    "id": "cdjUig8oAgCT",
    "outputId": "a7739769-aacc-4814-db9d-f9f62e667da3"
   },
   "outputs": [
    {
     "name": "stdout",
     "output_type": "stream",
     "text": [
      "step: 0 -- action: 84\n",
      "step: 1 -- action: 84\n",
      "step: 2 -- action: 84\n",
      "step: 3 -- action: 84\n",
      "step: 4 -- action: 84\n",
      "step: 5 -- action: 84\n",
      "step: 6 -- action: 84\n",
      "step: 7 -- action: 84\n",
      "step: 8 -- action: 84\n",
      "step: 9 -- action: 84\n",
      "step: 10 -- action: 84\n",
      "step: 11 -- action: 84\n",
      "step: 12 -- action: 84\n",
      "step: 13 -- action: 53\n",
      "step: 14 -- action: 84\n",
      "step: 15 -- action: 70\n",
      "step: 16 -- action: 41\n",
      "step: 17 -- action: 45\n",
      "step: 18 -- action: 41\n",
      "step: 19 -- action: 41\n",
      "step: 20 -- action: 41\n",
      "step: 21 -- action: 41\n",
      "step: 22 -- action: 84\n",
      "step: 23 -- action: 20\n",
      "step: 24 -- action: 84\n",
      "step: 25 -- action: 84\n",
      "step: 26 -- action: 84\n",
      "step: 27 -- action: 84\n",
      "step: 28 -- action: 84\n",
      "step: 29 -- action: 84\n",
      "step: 30 -- action: 84\n",
      "step: 31 -- action: 84\n",
      "step: 32 -- action: 53\n",
      "step: 33 -- action: 84\n",
      "step: 34 -- action: 20\n",
      "step: 35 -- action: 53\n",
      "step: 36 -- action: 84\n",
      "step: 37 -- action: 84\n",
      "step: 38 -- action: 84\n",
      "step: 39 -- action: 84\n",
      "step: 40 -- action: 84\n",
      "step: 41 -- action: 84\n",
      "step: 42 -- action: 84\n",
      "step: 43 -- action: 84\n",
      "step: 44 -- action: 84\n",
      "step: 45 -- action: 84\n",
      "step: 46 -- action: 84\n",
      "step: 47 -- action: 84\n",
      "step: 48 -- action: 84\n",
      "step: 49 -- action: 127\n",
      "step: 50 -- action: 84\n",
      "step: 51 -- action: 84\n",
      "step: 52 -- action: 84\n",
      "step: 53 -- action: 45\n",
      "step: 54 -- action: 84\n",
      "step: 55 -- action: 84\n",
      "step: 56 -- action: 53\n",
      "step: 57 -- action: 127\n",
      "step: 58 -- action: 169\n",
      "step: 59 -- action: 41\n",
      "step: 60 -- action: 20\n",
      "step: 61 -- action: 20\n",
      "step: 62 -- action: 20\n",
      "step: 63 -- action: 70\n",
      "step: 64 -- action: 84\n",
      "step: 65 -- action: 84\n",
      "step: 66 -- action: 84\n",
      "step: 67 -- action: 84\n",
      "step: 68 -- action: 84\n",
      "step: 69 -- action: 84\n",
      "step: 70 -- action: 84\n",
      "step: 71 -- action: 84\n",
      "step: 72 -- action: 84\n",
      "step: 73 -- action: 84\n",
      "step: 74 -- action: 20\n",
      "step: 75 -- action: 53\n",
      "step: 76 -- action: 20\n",
      "step: 77 -- action: 84\n",
      "step: 78 -- action: 84\n",
      "step: 79 -- action: 84\n",
      "step: 80 -- action: 84\n",
      "step: 81 -- action: 41\n",
      "step: 82 -- action: 84\n",
      "step: 83 -- action: 84\n",
      "step: 84 -- action: 41\n",
      "step: 85 -- action: 41\n",
      "step: 86 -- action: 84\n",
      "step: 87 -- action: 41\n",
      "step: 88 -- action: 20\n",
      "step: 89 -- action: 84\n",
      "step: 90 -- action: 84\n",
      "step: 91 -- action: 84\n",
      "step: 92 -- action: 84\n",
      "step: 93 -- action: 84\n",
      "step: 94 -- action: 84\n",
      "step: 95 -- action: 20\n",
      "step: 96 -- action: 84\n",
      "step: 97 -- action: 84\n",
      "step: 98 -- action: 84\n",
      "step: 99 -- action: 84\n",
      "step: 100 -- action: 41\n",
      "step: 101 -- action: 127\n",
      "step: 102 -- action: 84\n",
      "step: 103 -- action: 41\n",
      "step: 104 -- action: 84\n",
      "step: 105 -- action: 84\n",
      "step: 106 -- action: 84\n",
      "step: 107 -- action: 84\n",
      "step: 108 -- action: 84\n",
      "step: 109 -- action: 84\n",
      "step: 110 -- action: 84\n",
      "step: 111 -- action: 84\n",
      "step: 112 -- action: 84\n",
      "step: 113 -- action: 84\n",
      "step: 114 -- action: 84\n",
      "step: 115 -- action: 84\n",
      "step: 116 -- action: 84\n",
      "step: 117 -- action: 84\n",
      "step: 118 -- action: 84\n",
      "step: 119 -- action: 84\n",
      "step: 120 -- action: 84\n",
      "step: 121 -- action: 84\n",
      "step: 122 -- action: 84\n",
      "step: 123 -- action: 84\n",
      "step: 124 -- action: 84\n",
      "step: 125 -- action: 84\n",
      "step: 126 -- action: 84\n",
      "step: 127 -- action: 84\n",
      "step: 128 -- action: 20\n",
      "step: 129 -- action: 84\n",
      "step: 130 -- action: 84\n",
      "step: 131 -- action: 84\n",
      "step: 132 -- action: 84\n",
      "step: 133 -- action: 41\n",
      "step: 134 -- action: 41\n",
      "step: 135 -- action: 20\n",
      "step: 136 -- action: 84\n",
      "step: 137 -- action: 84\n",
      "step: 138 -- action: 84\n",
      "step: 139 -- action: 84\n",
      "step: 140 -- action: 127\n",
      "step: 141 -- action: 84\n",
      "step: 142 -- action: 173\n",
      "step: 143 -- action: 169\n",
      "step: 144 -- action: 84\n",
      "step: 145 -- action: 154\n",
      "step: 146 -- action: 84\n",
      "step: 147 -- action: 84\n",
      "step: 148 -- action: 84\n",
      "step: 149 -- action: 53\n",
      "step: 150 -- action: 41\n",
      "step: 151 -- action: 84\n",
      "step: 152 -- action: 41\n",
      "step: 153 -- action: 84\n",
      "step: 154 -- action: 84\n",
      "step: 155 -- action: 84\n",
      "step: 156 -- action: 84\n",
      "step: 157 -- action: 84\n",
      "step: 158 -- action: 127\n",
      "step: 159 -- action: 84\n",
      "step: 160 -- action: 84\n",
      "step: 161 -- action: 84\n",
      "step: 162 -- action: 84\n",
      "step: 163 -- action: 20\n",
      "step: 164 -- action: 84\n",
      "step: 165 -- action: 53\n",
      "step: 166 -- action: 84\n",
      "step: 167 -- action: 84\n",
      "step: 168 -- action: 84\n",
      "step: 169 -- action: 41\n",
      "step: 170 -- action: 84\n",
      "step: 171 -- action: 84\n",
      "step: 172 -- action: 84\n",
      "step: 173 -- action: 84\n",
      "step: 174 -- action: 84\n",
      "step: 175 -- action: 127\n",
      "step: 176 -- action: 84\n",
      "step: 177 -- action: 84\n",
      "step: 178 -- action: 84\n",
      "step: 179 -- action: 41\n",
      "step: 180 -- action: 70\n",
      "step: 181 -- action: 84\n",
      "step: 182 -- action: 84\n",
      "step: 183 -- action: 41\n",
      "step: 184 -- action: 84\n",
      "step: 185 -- action: 41\n",
      "step: 186 -- action: 53\n",
      "step: 187 -- action: 84\n",
      "step: 188 -- action: 84\n",
      "step: 189 -- action: 84\n",
      "step: 190 -- action: 41\n",
      "step: 191 -- action: 41\n",
      "step: 192 -- action: 41\n",
      "step: 193 -- action: 41\n",
      "step: 194 -- action: 41\n",
      "step: 195 -- action: 41\n",
      "step: 196 -- action: 84\n",
      "step: 197 -- action: 84\n",
      "step: 198 -- action: 84\n",
      "step: 199 -- action: 84\n"
     ]
    }
   ],
   "source": [
    "state, reward, done, info = agent.env.step(action)\n",
    "action = agent.env.action_space.sample()\n",
    "n_steps = 200\n",
    "step = 0\n",
    "\n",
    "while not done and (step < n_steps):\n",
    "    state, reward, done, info = agent.env.step(action)\n",
    "    action = agent.get_action(state)\n",
    "    print('step:', step, '-- action:', action)\n",
    "    step += 1"
   ]
  },
  {
   "cell_type": "code",
   "execution_count": 17,
   "metadata": {
    "colab": {
     "base_uri": "https://localhost:8080/",
     "height": 626
    },
    "colab_type": "code",
    "id": "qg5P-2AKAtwm",
    "outputId": "34abea48-c4ae-4559-c9da-1c55b8fe5cd8"
   },
   "outputs": [
    {
     "data": {
      "text/plain": [
       "<matplotlib.axes._subplots.AxesSubplot at 0x7f45ac030c50>"
      ]
     },
     "execution_count": 17,
     "metadata": {
      "tags": []
     },
     "output_type": "execute_result"
    },
    {
     "data": {
      "image/png": "[encoded data removed]",
      "text/plain": [
       "<Figure size 1152x720 with 1 Axes>"
      ]
     },
     "metadata": {
      "tags": []
     },
     "output_type": "display_data"
    }
   ],
   "source": [
    "env.portfolio.performance.net_worth.plot(figsize=(16,10))"
   ]
  },
  {
   "cell_type": "code",
   "execution_count": 0,
   "metadata": {
    "colab": {},
    "colab_type": "code",
    "id": "RUxQKWBw4fDL"
   },
   "outputs": [],
   "source": []
  }
 ],
 "metadata": {
  "colab": {
   "collapsed_sections": [],
   "name": "AI2_project.ipynb",
   "provenance": []
  },
  "kernelspec": {
   "display_name": "Python 3",
   "language": "python",
   "name": "python3"
  },
  "language_info": {
   "codemirror_mode": {
    "name": "ipython",
    "version": 3
   },
   "file_extension": ".py",
   "mimetype": "text/x-python",
   "name": "python",
   "nbconvert_exporter": "python",
   "pygments_lexer": "ipython3",
   "version": "3.7.3"
  },
  "latex_envs": {
   "LaTeX_envs_menu_present": true,
   "autoclose": false,
   "autocomplete": true,
   "bibliofile": "biblio.bib",
   "cite_by": "apalike",
   "current_citInitial": 1,
   "eqLabelWithNumbers": true,
   "eqNumInitial": 1,
   "hotkeys": {
    "equation": "Ctrl-E",
    "itemize": "Ctrl-I"
   },
   "labels_anchors": false,
   "latex_user_defs": false,
   "report_style_numbering": false,
   "user_envs_cfg": false
  },
  "toc": {
   "base_numbering": 1,
   "nav_menu": {},
   "number_sections": true,
   "sideBar": true,
   "skip_h1_title": false,
   "title_cell": "Table of Contents",
   "title_sidebar": "Contents",
   "toc_cell": true,
   "toc_position": {},
   "toc_section_display": true,
   "toc_window_display": false
  },
  "varInspector": {
   "cols": {
    "lenName": 16,
    "lenType": 16,
    "lenVar": 40
   },
   "kernels_config": {
    "python": {
     "delete_cmd_postfix": "",
     "delete_cmd_prefix": "del ",
     "library": "var_list.py",
     "varRefreshCmd": "print(var_dic_list())"
    },
    "r": {
     "delete_cmd_postfix": ") ",
     "delete_cmd_prefix": "rm(",
     "library": "var_list.r",
     "varRefreshCmd": "cat(var_dic_list()) "
    }
   },
   "types_to_exclude": [
    "module",
    "function",
    "builtin_function_or_method",
    "instance",
    "_Feature"
   ],
   "window_display": false
  }
 },
 "nbformat": 4,
 "nbformat_minor": 1
}
